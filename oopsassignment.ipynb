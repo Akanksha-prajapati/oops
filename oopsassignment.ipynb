{
  "nbformat": 4,
  "nbformat_minor": 0,
  "metadata": {
    "colab": {
      "provenance": [],
      "authorship_tag": "ABX9TyOMcOzw/6IdIMM7+26UBBQh",
      "include_colab_link": true
    },
    "kernelspec": {
      "name": "python3",
      "display_name": "Python 3"
    },
    "language_info": {
      "name": "python"
    }
  },
  "cells": [
    {
      "cell_type": "markdown",
      "metadata": {
        "id": "view-in-github",
        "colab_type": "text"
      },
      "source": [
        "<a href=\"https://colab.research.google.com/github/Akanksha-prajapati/oops/blob/main/oopsassignment.ipynb\" target=\"_parent\"><img src=\"https://colab.research.google.com/assets/colab-badge.svg\" alt=\"Open In Colab\"/></a>"
      ]
    },
    {
      "cell_type": "code",
      "execution_count": 1,
      "metadata": {
        "colab": {
          "base_uri": "https://localhost:8080/"
        },
        "id": "XyCpht_YGlqZ",
        "outputId": "fb88dbdd-0073-406c-cb05-f05216f6e377"
      },
      "outputs": [
        {
          "output_type": "stream",
          "name": "stdout",
          "text": [
            "Hello, Alice! Welcome to the class.\n",
            "Hello, Bob! Welcome to the class.\n",
            "Hello, Charlie! Welcome to the class.\n"
          ]
        }
      ],
      "source": [
        "# Write a basic funtion to greet students.\n",
        "\n",
        "#code......\n",
        "def greet_students(names):\n",
        "    \"\"\"\n",
        "    Greets a list of students with a personalized message.\n",
        "\n",
        "    :param names: List of student names (strings).\n",
        "    \"\"\"\n",
        "    for name in names:\n",
        "        print(f\"Hello, {name}! Welcome to the class.\")\n",
        "\n",
        "# Example usage\n",
        "student_list = [\"Alice\", \"Bob\", \"Charlie\"]\n",
        "greet_students(student_list)\n"
      ]
    },
    {
      "cell_type": "code",
      "source": [
        "#write a code generates the squares of numbers from 1 to n using gerators\n",
        "\n",
        "#code...\n",
        "\n",
        "def generate_squares(n):\n",
        "    \"\"\"\n",
        "    A generator function that yields the squares of numbers from 1 to n.\n",
        "\n",
        "    :param n: The upper limit (inclusive) for generating squares.\n",
        "    \"\"\"\n",
        "    for i in range(1, n + 1):\n",
        "       yield i * i\n",
        "\n",
        "# Example usage\n",
        "n = 5\n",
        "squares_generator = generate_squares(n)\n",
        "\n",
        "for square in squares_generator:\n",
        "    print(square)\n"
      ],
      "metadata": {
        "colab": {
          "base_uri": "https://localhost:8080/"
        },
        "id": "Sg5KswgpZ6Ik",
        "outputId": "5faa094b-917f-4a8e-d176-6382ab8869ba"
      },
      "execution_count": 11,
      "outputs": [
        {
          "output_type": "stream",
          "name": "stdout",
          "text": [
            "1\n",
            "4\n",
            "9\n",
            "16\n",
            "25\n"
          ]
        }
      ]
    },
    {
      "cell_type": "code",
      "source": [
        "# write a code to generate palindromic number upto n using genrator\n",
        "\n",
        "#code...\n",
        "\n",
        "def generate_palindromic_numbers(n):\n",
        "    \"\"\"\n",
        "    A generator function that yields palindromic numbers up to n.\n",
        "\n",
        "    :param n: The upper limit (inclusive) for generating palindromic numbers.\n",
        "    \"\"\"\n",
        "    for i in range(1, n + 1):\n",
        "        if str(i) == str(i)[::-1]:  # Check if the number is a palindrome\n",
        "            yield i\n",
        "\n",
        "# Example usage\n",
        "n = 20\n",
        "palindromes = generate_palindromic_numbers(n)\n",
        "\n",
        "for palindrome in palindromes:\n",
        "    print(palindrome)\n"
      ],
      "metadata": {
        "colab": {
          "base_uri": "https://localhost:8080/"
        },
        "id": "QY01EMo4eYt0",
        "outputId": "43494e51-e293-4e1a-8a2d-e56225cf2945"
      },
      "execution_count": 14,
      "outputs": [
        {
          "output_type": "stream",
          "name": "stdout",
          "text": [
            "1\n",
            "2\n",
            "3\n",
            "4\n",
            "5\n",
            "6\n",
            "7\n",
            "8\n",
            "9\n",
            "11\n"
          ]
        }
      ]
    },
    {
      "cell_type": "code",
      "source": [
        "# write a code to generate evern numbers fron 2 to n using genrator\n",
        "\n",
        "#code...\n",
        "\n",
        "def generate_even_number(n):\n",
        "  for i in range(2,n+1):\n",
        "    if i%2==0:\n",
        "      yield i\n",
        "n=50\n",
        "numbers=generate_even_number(n)\n",
        "for even_number in numbers:\n",
        "  print(even_number)"
      ],
      "metadata": {
        "colab": {
          "base_uri": "https://localhost:8080/"
        },
        "id": "Ufm7D5VHanEQ",
        "outputId": "e61e269c-3f30-40b6-ac09-49cbaea51255"
      },
      "execution_count": 16,
      "outputs": [
        {
          "output_type": "stream",
          "name": "stdout",
          "text": [
            "2\n",
            "4\n",
            "6\n",
            "8\n",
            "10\n",
            "12\n",
            "14\n",
            "16\n",
            "18\n",
            "20\n",
            "22\n",
            "24\n",
            "26\n",
            "28\n",
            "30\n",
            "32\n",
            "34\n",
            "36\n",
            "38\n",
            "40\n",
            "42\n",
            "44\n",
            "46\n",
            "48\n",
            "50\n"
          ]
        }
      ]
    },
    {
      "cell_type": "code",
      "source": [
        "# write a code that generate powers of two up  to n using genrator\n",
        "\n",
        "#code...\n",
        "def generate_powers_of_two(n):\n",
        "    \"\"\"\n",
        "    A generator function that yields powers of two up to 2^n.\n",
        "\n",
        "    :param n: The exponent limit (inclusive).\n",
        "    \"\"\"\n",
        "    for i in range(n + 1):\n",
        "        yield 2 ** i\n",
        "\n",
        "# Example usage\n",
        "n = 5\n",
        "powers_of_two = generate_powers_of_two(n)\n",
        "\n",
        "for power in powers_of_two:\n",
        "    print(power)\n",
        "\n"
      ],
      "metadata": {
        "id": "cOAOHSHDlQ4P"
      },
      "execution_count": null,
      "outputs": []
    },
    {
      "cell_type": "code",
      "source": [
        "# write a code that generate prime numbers  up  to n using genrator\n",
        "\n",
        "#code...\n",
        "def generate_primes(n):\n",
        "    \"\"\"\n",
        "    A generator function that yields prime numbers up to n.\n",
        "\n",
        "    :param n: The upper limit (inclusive) for generating prime numbers.\n",
        "    \"\"\"\n",
        "    for num in range(2, n + 1):\n",
        "        is_prime = True\n",
        "        for i in range(2, num):\n",
        "            if num % i == 0:\n",
        "                is_prime = False\n",
        "                break\n",
        "        if is_prime:\n",
        "            yield num\n",
        "\n",
        "# Example usage\n",
        "n = 30\n",
        "primes = generate_primes(n)\n",
        "\n",
        "for prime in primes:\n",
        "    print(prime)\n"
      ],
      "metadata": {
        "colab": {
          "base_uri": "https://localhost:8080/"
        },
        "id": "ukj-7yz4mQKO",
        "outputId": "f8a61783-b148-4018-eb4a-44f0606b7888"
      },
      "execution_count": 17,
      "outputs": [
        {
          "output_type": "stream",
          "name": "stdout",
          "text": [
            "2\n",
            "3\n",
            "5\n",
            "7\n",
            "11\n",
            "13\n",
            "17\n",
            "19\n",
            "23\n",
            "29\n"
          ]
        }
      ]
    },
    {
      "cell_type": "code",
      "source": [
        "# write a code that uses a lambda function  to calculate sum of two number\n",
        "# same ques for 22\n",
        "#code...\n",
        "\n",
        "sum_numbers = lambda a, b: a + b\n",
        "\n",
        "# Example usage\n",
        "result = sum_numbers(5, 10)\n",
        "print(f\"The sum is: {result}\")\n"
      ],
      "metadata": {
        "colab": {
          "base_uri": "https://localhost:8080/"
        },
        "id": "XRqvVFDzxZee",
        "outputId": "5b31d0fc-1f55-47c9-f21e-53bafac27baf"
      },
      "execution_count": 18,
      "outputs": [
        {
          "output_type": "stream",
          "name": "stdout",
          "text": [
            "The sum is: 15\n"
          ]
        }
      ]
    },
    {
      "cell_type": "code",
      "source": [
        "# write a code that uses a lambda function  to calculate sqaure of given number\n",
        "# same ques for 23\n",
        "#code...\n",
        "\n",
        "square= lambda a : a**2\n",
        "result=square(9)\n",
        "print(f\"square of given number is {result}\")\n"
      ],
      "metadata": {
        "colab": {
          "base_uri": "https://localhost:8080/"
        },
        "id": "ZM33UXZ4AGc-",
        "outputId": "af8e950e-e65e-4e6c-ddea-ce8de1905e84"
      },
      "execution_count": 20,
      "outputs": [
        {
          "output_type": "stream",
          "name": "stdout",
          "text": [
            "square of given number 81\n"
          ]
        }
      ]
    },
    {
      "cell_type": "code",
      "source": [
        "# write a code that uses a lambda function  to check whether a given no is even or odd\n",
        "# same ques for 24\n",
        "#code...\n",
        "\n",
        "check_even_odd = lambda x: \"Even\" if x % 2 == 0 else \"Odd\"\n",
        "\n",
        "# Example usage\n",
        "number = 7\n",
        "result = check_even_odd(number)\n",
        "print(f\"The number {number} is {result}.\")\n"
      ],
      "metadata": {
        "colab": {
          "base_uri": "https://localhost:8080/"
        },
        "id": "CqCySX_XBMaV",
        "outputId": "e7709efa-c22c-40c4-824a-75bb2218029b"
      },
      "execution_count": 21,
      "outputs": [
        {
          "output_type": "stream",
          "name": "stdout",
          "text": [
            "The number 7 is Odd.\n"
          ]
        }
      ]
    },
    {
      "cell_type": "code",
      "source": [
        "\n",
        "# write a code that uses a lambda function  to concatenate two strings\n",
        "# same ques for 25\n",
        "#code...\n",
        "\n",
        "Concatenate= lambda a,b: a + b\n",
        "str1=input(\"Enter first string \")\n",
        "str2=input(\"Enter second string \")\n",
        "result= Concatenate(str1,str2)\n",
        "print(result)"
      ],
      "metadata": {
        "colab": {
          "base_uri": "https://localhost:8080/"
        },
        "id": "SM0OXWXdB4qd",
        "outputId": "56ace449-2138-48e4-8525-55b624eaad4f"
      },
      "execution_count": 24,
      "outputs": [
        {
          "output_type": "stream",
          "name": "stdout",
          "text": [
            "Enter first string volly\n",
            "Enter second string ball\n",
            "vollyball\n"
          ]
        }
      ]
    },
    {
      "cell_type": "code",
      "source": [
        "# write a code that uses a lambda function  to find the maximum of three given number\n",
        "\n",
        "#code...\n",
        "\n",
        "\n",
        "max_of_three = lambda a, b, c: max(a, b, c)\n",
        "\n",
        "# Example usage\n",
        "num1 = 10\n",
        "num2 = 25\n",
        "num3 = 15\n",
        "result = max_of_three(num1, num2, num3)\n",
        "print(f\"The maximum of {num1}, {num2}, and {num3} is {result}.\")\n"
      ],
      "metadata": {
        "colab": {
          "base_uri": "https://localhost:8080/"
        },
        "id": "J-zCoL0BEP6e",
        "outputId": "240dd17a-0654-494d-c97c-87080f8bbd79"
      },
      "execution_count": 26,
      "outputs": [
        {
          "output_type": "stream",
          "name": "stdout",
          "text": [
            "The maximum of 10, 25, and 15 is 25.\n"
          ]
        }
      ]
    },
    {
      "cell_type": "code",
      "source": [
        " # write a code that generate squares of even numbers from given list\n",
        "\n",
        "#code.....\n",
        "\n",
        "\n",
        "def generate_even_squares(numbers):\n",
        "    even_squares = []\n",
        "    for num in numbers:\n",
        "        if num % 2 == 0:\n",
        "            even_squares.append(num ** 2)\n",
        "    return even_squares\n",
        "\n",
        "# Example usage\n",
        "numbers_list = [1, 2, 3, 4, 5, 6, 7, 8, 9, 10]\n",
        "even_squares = generate_even_squares(numbers_list)\n",
        "print(even_squares)\n"
      ],
      "metadata": {
        "colab": {
          "base_uri": "https://localhost:8080/"
        },
        "id": "ln_Q1-ArHApm",
        "outputId": "84df3566-1eae-4a3f-ba61-671b29429ffc"
      },
      "execution_count": 27,
      "outputs": [
        {
          "output_type": "stream",
          "name": "stdout",
          "text": [
            "[4, 16, 36, 64, 100]\n"
          ]
        }
      ]
    },
    {
      "cell_type": "code",
      "source": [
        " # write a code that calculates product of positive number from given list\n",
        "\n",
        "#code.....\n",
        "\n",
        "def product(l):\n",
        "  pro=1\n",
        "  for i in l:\n",
        "    if i>=0:\n",
        "      pro=pro*i\n",
        "  return pro\n",
        "numbers_list = [1, 2, -3,  -8, -9]\n",
        "product_of_positive_number=product(numbers_list)\n",
        "print(product_of_positive_number)\n"
      ],
      "metadata": {
        "colab": {
          "base_uri": "https://localhost:8080/"
        },
        "id": "gqCiV1bxlSV4",
        "outputId": "b957f898-eb80-49bf-ab38-0d89db76c477"
      },
      "execution_count": 3,
      "outputs": [
        {
          "output_type": "stream",
          "name": "stdout",
          "text": [
            "2\n"
          ]
        }
      ]
    },
    {
      "cell_type": "code",
      "source": [
        "# write a code that doubles the values of odd numbers from given list\n",
        "\n",
        "#code.....\n",
        "def double_the_values(l):\n",
        "  list=[]\n",
        "  for i in l:\n",
        "    if i%2!=0:\n",
        "      list.append(i*2)\n",
        "    else:\n",
        "      list.append(i)\n",
        "  return list\n",
        "\n",
        "numbers_list = [1, 2, 3, 4, 5, 6, 7, 8, 9, 10]\n",
        "values= double_the_values(numbers_list)\n",
        "print(values)"
      ],
      "metadata": {
        "colab": {
          "base_uri": "https://localhost:8080/"
        },
        "id": "fGUzZ5DankiW",
        "outputId": "8f635d3d-c8d9-4738-bad0-6e19c0182358"
      },
      "execution_count": 4,
      "outputs": [
        {
          "output_type": "stream",
          "name": "stdout",
          "text": [
            "[2, 2, 6, 4, 10, 6, 14, 8, 18, 10]\n"
          ]
        }
      ]
    },
    {
      "cell_type": "code",
      "source": [
        "# write a code that calculates the sum of cubes of  numbers from given list\n",
        "\n",
        "#code.....\n",
        "def sum_of_cubes(l):\n",
        "  sum=0\n",
        "  for i in l:\n",
        "    sum=sum+i**3\n",
        "  return sum\n",
        "numbers_list = [1, 2]\n",
        "result= sum_of_cubes(numbers_list)\n",
        "print(result)\n",
        "\n"
      ],
      "metadata": {
        "colab": {
          "base_uri": "https://localhost:8080/"
        },
        "id": "qm8_7Lr0s0EK",
        "outputId": "61ff6dbf-1a06-4438-d9f0-49039776de8d"
      },
      "execution_count": 6,
      "outputs": [
        {
          "output_type": "stream",
          "name": "stdout",
          "text": [
            "9\n"
          ]
        }
      ]
    },
    {
      "cell_type": "code",
      "source": [
        "#write a code that filter out prime number  from given list\n",
        "\n",
        "#code.....\n",
        "def is_prime(num):\n",
        "    if num <= 1:\n",
        "        return False\n",
        "    for i in range(2, int(num ** 0.5) + 1):\n",
        "        if num % i == 0:\n",
        "            return False\n",
        "    return True\n",
        "\n",
        "# Function to filter out prime numbers from a given list without list comprehension\n",
        "def filter_primes(numbers):\n",
        "    primes = []\n",
        "    for num in numbers:\n",
        "        if is_prime(num):\n",
        "            primes.append(num)\n",
        "    return primes\n",
        "\n",
        "# Example usage\n",
        "numbers_list = [2, 3, 4, 5, 6, 7, 8, 9, 10, 11, 12, 13, 14, 15]\n",
        "primes = filter_primes(numbers_list)\n",
        "print(f\"Prime numbers: {primes}\")\n"
      ],
      "metadata": {
        "colab": {
          "base_uri": "https://localhost:8080/"
        },
        "id": "16rKwFheuLj_",
        "outputId": "43f77d19-ce3f-4df1-82ad-34e48152664f"
      },
      "execution_count": 7,
      "outputs": [
        {
          "output_type": "stream",
          "name": "stdout",
          "text": [
            "Prime numbers: [2, 3, 5, 7, 11, 13]\n"
          ]
        }
      ]
    },
    {
      "cell_type": "code",
      "source": [
        "#define a parent class animal with  a method make_sound that prints \"generic animal sound\" .\n",
        "#create a child class dog inheriting from animal with a method make_sound that prit \"woof!\n",
        "\n",
        "\n",
        "#coode.........\n",
        "class Animal:\n",
        "  def make_sound(self):\n",
        "    print(\"generic animal sound\")\n",
        "class Dog(Animal):\n",
        "  def make_sounds(self):\n",
        "    print(\"woof!\")\n",
        "animal = Animal()\n",
        "animal.make_sound()  # Output: Generic animal sound\n",
        "\n",
        "dog = Dog()\n",
        "dog.make_sounds()\n"
      ],
      "metadata": {
        "colab": {
          "base_uri": "https://localhost:8080/"
        },
        "id": "ORi_j_DZz-Ii",
        "outputId": "42c26731-594f-4aa4-a0a6-4b4c716ac437"
      },
      "execution_count": 11,
      "outputs": [
        {
          "output_type": "stream",
          "name": "stdout",
          "text": [
            "generic animal sound\n",
            "woof!\n"
          ]
        }
      ]
    },
    {
      "cell_type": "code",
      "source": [
        "#define a method move in animal class that prints \"Animal moves\". override the move method in the  Dog class to print \"DOG RUNS\"\n",
        "\n",
        "#code.....\n",
        "\n",
        "class Animal:\n",
        "  def move(self):\n",
        "    print(\"Animal moves\")\n",
        "class Dog:\n",
        "  def move(self):\n",
        "    print(\"DOG RUNS\")\n",
        "animal=Animal()\n",
        "animal.move()\n",
        "\n",
        "dog=Dog()\n",
        "dog.move()"
      ],
      "metadata": {
        "colab": {
          "base_uri": "https://localhost:8080/"
        },
        "id": "zWGTq8CwE5v7",
        "outputId": "88a61f20-7b6e-40db-85b8-96ea2f609a03"
      },
      "execution_count": 1,
      "outputs": [
        {
          "output_type": "stream",
          "name": "stdout",
          "text": [
            "Animal moves\n",
            "DOG RUNS\n"
          ]
        }
      ]
    },
    {
      "cell_type": "code",
      "source": [],
      "metadata": {
        "id": "zbLm3TS8yV5z"
      },
      "execution_count": null,
      "outputs": []
    }
  ]
}